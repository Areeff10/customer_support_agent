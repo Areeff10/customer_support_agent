{
  "nbformat": 4,
  "nbformat_minor": 0,
  "metadata": {
    "colab": {
      "provenance": [],
      "authorship_tag": "ABX9TyNNZbgAI/RTHVKLHHqGORZq",
      "include_colab_link": true
    },
    "kernelspec": {
      "name": "python3",
      "display_name": "Python 3"
    },
    "language_info": {
      "name": "python"
    }
  },
  "cells": [
    {
      "cell_type": "markdown",
      "metadata": {
        "id": "view-in-github",
        "colab_type": "text"
      },
      "source": [
        "<a href=\"https://colab.research.google.com/github/Areeff10/customer_support_agent/blob/main/Customer_support_agent.ipynb\" target=\"_parent\"><img src=\"https://colab.research.google.com/assets/colab-badge.svg\" alt=\"Open In Colab\"/></a>"
      ]
    },
    {
      "cell_type": "code",
      "source": [
        "import os\n",
        "from typing import TypedDict, Dict\n",
        "from langgraph.graph import StateGraph, END\n",
        "from langchain_core.prompts import ChatPromptTemplate\n",
        "from langchain_core.runnables.graph import MermaidDrawMethod\n",
        "from langchain_google_genai import ChatGoogleGenerativeAI\n",
        "from langchain_groq import ChatGroq\n",
        "from IPython.display import display , Image"
      ],
      "metadata": {
        "id": "LqDYKXXHdN9F"
      },
      "execution_count": 162,
      "outputs": []
    },
    {
      "cell_type": "code",
      "source": [
        "class State(TypedDict):\n",
        "  query: str\n",
        "  category: str\n",
        "  sentiment: str\n",
        "  response: str"
      ],
      "metadata": {
        "id": "G6SvXgJWd78m"
      },
      "execution_count": 163,
      "outputs": []
    },
    {
      "cell_type": "code",
      "source": [
        "from google.colab import userdata\n",
        "GROQ_API_KEY=userdata.get('GROQ_API_KEY')"
      ],
      "metadata": {
        "id": "MDeLZgQPePOb"
      },
      "execution_count": 164,
      "outputs": []
    },
    {
      "cell_type": "code",
      "source": [
        "from google.colab import userdata\n",
        "GOOGLE_API_KEY=userdata.get('GOOGLE_API_KEY')"
      ],
      "metadata": {
        "id": "CE0nFXdKG437"
      },
      "execution_count": 165,
      "outputs": []
    },
    {
      "cell_type": "code",
      "source": [
        "llm=ChatGoogleGenerativeAI(model=\"gemini-1.5-flash\",convert_system_message_to_human=True, api_key=GOOGLE_API_KEY,temperature = 0.1)"
      ],
      "metadata": {
        "id": "bhUVakKaeNHf"
      },
      "execution_count": 166,
      "outputs": []
    },
    {
      "cell_type": "code",
      "source": [
        "llm = ChatGroq(api_key = GROQ_API_KEY, model = \"llama-3.3-70b-versatile\",temperature = 0.1)"
      ],
      "metadata": {
        "id": "P84EA0dNHDpr"
      },
      "execution_count": 167,
      "outputs": []
    },
    {
      "cell_type": "code",
      "source": [
        "def categorize(state: State) -> State:\n",
        "  \"Technical, Billing, General\"\n",
        "  prompt = ChatPromptTemplate.from_template(\n",
        "      \"Categorize the following customer query into one of these categories: \"\n",
        "      \"Technical, Billing, General. Query: {query}\"\n",
        "  )\n",
        "  chain = prompt | llm\n",
        "  category = chain.invoke({\"query\": state[\"query\"]}).content\n",
        "  return {\"category\": category}"
      ],
      "metadata": {
        "id": "UKLq60Phel3r"
      },
      "execution_count": 168,
      "outputs": []
    },
    {
      "cell_type": "code",
      "source": [
        "def analyze_sentiment(state: State) -> State:\n",
        "  prompt = ChatPromptTemplate.from_template(\n",
        "      \"Analyze the sentiment of the following customer query\"\n",
        "      \"Response with either 'Position', 'Neutral' , or 'Negative'. Query: {query}\"\n",
        "  )\n",
        "  chain = prompt | llm\n",
        "  sentiment = chain.invoke({\"query\": state[\"query\"]}).content\n",
        "  return {\"sentiment\": sentiment}"
      ],
      "metadata": {
        "id": "f-clWkWce1R_"
      },
      "execution_count": 169,
      "outputs": []
    },
    {
      "cell_type": "code",
      "source": [
        "def handle_billing(state: State)->State:\n",
        "  prompt = ChatPromptTemplate.from_template(\n",
        "      \"Provide a billing support response to the following query : {query}\"\n",
        "  )\n",
        "  chain = prompt | llm\n",
        "  response = chain.invoke({\"query\": state[\"query\"]}).content\n",
        "  return {\"response\": response}"
      ],
      "metadata": {
        "id": "Q6P_TJD1fb5R"
      },
      "execution_count": 170,
      "outputs": []
    },
    {
      "cell_type": "code",
      "source": [
        "def handle_general(state: State)->State:\n",
        "  prompt = ChatPromptTemplate.from_template(\n",
        "      \"Provide a general support response to the following query : {query}\"\n",
        "  )\n",
        "  chain = prompt | llm\n",
        "  response = chain.invoke({\"query\": state[\"query\"]}).content\n",
        "  return {\"response\": response}"
      ],
      "metadata": {
        "id": "KOA4zdzSfe0u"
      },
      "execution_count": 171,
      "outputs": []
    },
    {
      "cell_type": "code",
      "source": [
        "def escalate(state: State):\n",
        "    state[\"response\"] = \"This query has been escalated to a human agent due to its negative sentiment.\"\n",
        "    return state"
      ],
      "metadata": {
        "id": "BIO2L3GQgL-t"
      },
      "execution_count": 172,
      "outputs": []
    },
    {
      "cell_type": "code",
      "source": [
        "def handle_technical(state: State)->State:\n",
        "  prompt = ChatPromptTemplate.from_template(\n",
        "      \"Provide a technical support response to the following query : {query}\"\n",
        "  )\n",
        "  chain = prompt | llm\n",
        "  response = chain.invoke({\"query\": state[\"query\"]}).content\n",
        "  return {\"response\": response}"
      ],
      "metadata": {
        "id": "U3bd7CC7g9lY"
      },
      "execution_count": 173,
      "outputs": []
    },
    {
      "cell_type": "code",
      "source": [
        "def route_query(state: State)->State:\n",
        "  if state[\"sentiment\"] == \"Negative\":\n",
        "    return \"escalate\"\n",
        "  elif state[\"category\"] == \"Technical\":\n",
        "    return \"handle_technical\"\n",
        "  elif state[\"category\"] == \"Billing\":\n",
        "    return \"handle_billing\"\n",
        "  else:\n",
        "    return \"handle_general\""
      ],
      "metadata": {
        "id": "dT3SW7CigXyT"
      },
      "execution_count": 174,
      "outputs": []
    },
    {
      "cell_type": "code",
      "source": [
        "workflow = StateGraph(State)\n",
        "\n",
        "workflow.add_node(\"categorize\", categorize)\n",
        "workflow.add_node(\"analyze_sentiment\", analyze_sentiment)\n",
        "workflow.add_node(\"handle_technical\", handle_technical)\n",
        "workflow.add_node(\"handle_billing\", handle_billing)\n",
        "workflow.add_node(\"handle_general\", handle_general)\n",
        "workflow.add_node(\"escalate\", escalate)\n",
        "\n",
        "workflow.add_edge(\"categorize\", \"analyze_sentiment\")\n",
        "workflow.add_conditional_edges(\n",
        "    \"analyze_sentiment\",\n",
        "    route_query,{\n",
        "        \"handle_technical\" : \"handle_technical\",\n",
        "        \"handle_billing\" :  \"handle_billing\",\n",
        "        \"handle_general\" : \"handle_general\",\n",
        "        \"escalate\": \"escalate\"\n",
        "    }\n",
        ")\n",
        "\n",
        "workflow.add_edge(\"handle_technical\", END)\n",
        "workflow.add_edge(\"handle_billing\", END)\n",
        "workflow.add_edge(\"handle_general\", END)\n",
        "workflow.add_edge(\"escalate\", END)\n",
        "\n",
        "workflow.set_entry_point(\"categorize\")\n",
        "\n",
        "app  = workflow.compile()"
      ],
      "metadata": {
        "id": "ZEuPMJB_gsVT"
      },
      "execution_count": 175,
      "outputs": []
    },
    {
      "cell_type": "code",
      "source": [
        "display(Image(app.get_graph().draw_mermaid_png()))"
      ],
      "metadata": {
        "colab": {
          "base_uri": "https://localhost:8080/",
          "height": 449
        },
        "id": "jQn-pNLvhHkv",
        "outputId": "16d523f4-dccb-4996-f3e6-a058d24d3e11"
      },
      "execution_count": 176,
      "outputs": [
        {
          "output_type": "display_data",
          "data": {
            "image/png": "[encoded data removed]",
            "text/plain": [
              "<IPython.core.display.Image object>"
            ]
          },
          "metadata": {}
        }
      ]
    },
    {
      "cell_type": "code",
      "source": [
        "def run_customer_support(query: str):\n",
        "  results = app.invoke({\"query\": query})\n",
        "  return {\n",
        "      \"category\":results['category'],\n",
        "      \"sentiment\":results['sentiment'],\n",
        "      \"response\": results['response']\n",
        "  }"
      ],
      "metadata": {
        "id": "knvyqofWb2Ru"
      },
      "execution_count": 181,
      "outputs": []
    },
    {
      "cell_type": "markdown",
      "source": [
        "### Testing 1"
      ],
      "metadata": {
        "id": "TEAYOHObIRSc"
      }
    },
    {
      "cell_type": "code",
      "source": [
        "query = \"My internet connection is gone it's not working, Can you help me?\"\n",
        "result = run_customer_support(query)\n",
        "print(\"----------------------------------------------------------------------------------------------------------------------------\")\n",
        "print(f\"Query: {query}\")\n",
        "print(f\"Category: {result['category']}\")\n",
        "print(f\"Sentiment: {result['sentiment']}\")\n",
        "print(f\"Response: {result['response']}\")\n",
        "print(\"\\n\")\n",
        ""
      ],
      "metadata": {
        "colab": {
          "base_uri": "https://localhost:8080/"
        },
        "id": "-n7c7REHcZf2",
        "outputId": "44a04644-b117-45ba-ef7c-d8fec28c16ec"
      },
      "execution_count": 182,
      "outputs": [
        {
          "output_type": "stream",
          "name": "stdout",
          "text": [
            "----------------------------------------------------------------------------------------------------------------------------\n",
            "Query: My internet connection is gone it's not working, Can you help me?\n",
            "Category: The customer query can be categorized as: Technical.\n",
            "\n",
            "The query is related to a technical issue with the customer's internet connection, which is not working. This requires assistance from a technical support team to troubleshoot and resolve the issue.\n",
            "Sentiment: Neutral. \n",
            "\n",
            "The customer is stating a problem with their internet connection, but they are not expressing any emotion such as frustration or anger, and are instead asking for help in a polite manner.\n",
            "Response: I'm so sorry to hear that your internet connection is not working. I'd be happy to help you troubleshoot the issue. Can you please try a few things to help me narrow down the problem?\n",
            "\n",
            "1. **Restart your router**: Sometimes, a simple reboot can resolve the issue. Try unplugging the power cord from your router, waiting for 30 seconds, and then plugging it back in.\n",
            "2. **Check your cables**: Ensure that all cables are securely connected to your router, modem, and device (computer, laptop, etc.).\n",
            "3. **Check your internet service provider's status**: It's possible that there's an outage in your area. You can check your ISP's website or social media for any updates on outages or maintenance.\n",
            "\n",
            "If none of these steps resolve the issue, please provide me with more details about your setup, such as:\n",
            "\n",
            "* Your internet service provider\n",
            "* The type of router and modem you're using\n",
            "* The devices you're trying to connect to the internet\n",
            "* Any error messages you're seeing\n",
            "\n",
            "I'll do my best to help you troubleshoot the issue and get your internet connection up and running again.\n",
            "\n",
            "\n"
          ]
        }
      ]
    },
    {
      "cell_type": "markdown",
      "source": [
        "### Testing 2"
      ],
      "metadata": {
        "id": "T7ZMwb2uIhX6"
      }
    },
    {
      "cell_type": "code",
      "source": [
        "query = \"where can i find my receipt\"\n",
        "result = run_customer_support(query)\n",
        "print(\"----------------------------------------------------------------------------------------------------------------------------\")\n",
        "print(f\"Query: {query}\")\n",
        "print(f\"Category: {result['category']}\\n\")\n",
        "print(f\"Sentiment: {result['sentiment']}\\n\")\n",
        "print(f\"Response: {result['response']}\\n\")\n",
        "print(\"\\n\")"
      ],
      "metadata": {
        "colab": {
          "base_uri": "https://localhost:8080/"
        },
        "id": "ECXZ__LJCUp3",
        "outputId": "8b58da0f-626b-4789-9529-9eafa002eee6"
      },
      "execution_count": 180,
      "outputs": [
        {
          "output_type": "stream",
          "name": "stdout",
          "text": [
            "----------------------------------------------------------------------------------------------------------------------------\n",
            "Query: where can i find my receipt\n",
            "Category: The customer query \"where can I find my receipt\" can be categorized as: Billing.\n",
            "\n",
            "Sentiment: Neutral. The customer is simply asking for information about their receipt, without expressing any emotion or sentiment, either positive or negative.\n",
            "\n",
            "Response: I'd be happy to help you locate your receipt. There are a few possible places you can check, depending on how you made your purchase. Here are some suggestions:\n",
            "\n",
            "1. **Email**: If you made an online purchase, check your email inbox for a confirmation email that may include your receipt.\n",
            "2. **Order history**: If you have an account with the retailer, log in and check your order history. Your receipt may be available to view or print from there.\n",
            "3. **Store location**: If you made a purchase in-store, you can try contacting the store directly and asking if they have a copy of your receipt on file.\n",
            "4. **Wallet or purse**: Double-check your wallet or purse to see if you still have the physical receipt.\n",
            "5. **Digital wallet**: If you used a digital wallet like Apple Pay or Google Pay, you may be able to find your receipt in the app.\n",
            "6. **Bank statement**: If you paid by credit or debit card, you can check your bank statement to see if the transaction is listed. This may not provide a full receipt, but it can help you confirm the purchase.\n",
            "\n",
            "If you're still unable to find your receipt, you can try contacting the retailer's customer service department for assistance. They may be able to provide you with a replacement receipt or help you resolve any issues related to your purchase.\n",
            "\n",
            "I hope this helps! Let me know if you have any other questions.\n",
            "\n",
            "\n",
            "\n"
          ]
        }
      ]
    },
    {
      "cell_type": "code",
      "source": [],
      "metadata": {
        "id": "1HpmhQ9XC6IM"
      },
      "execution_count": null,
      "outputs": []
    }
  ]
}